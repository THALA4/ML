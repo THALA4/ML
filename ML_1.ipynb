{
  "nbformat": 4,
  "nbformat_minor": 0,
  "metadata": {
    "colab": {
      "provenance": []
    },
    "kernelspec": {
      "name": "python3",
      "display_name": "Python 3"
    },
    "language_info": {
      "name": "python"
    }
  },
  "cells": [
    {
      "cell_type": "markdown",
      "source": [],
      "metadata": {
        "id": "-wZQ8W9VgEPj"
      }
    },
    {
      "cell_type": "code",
      "source": [
        "import pandas as pd\n",
        "from sklearn.preprocessing import StandardScaler\n",
        "from sklearn.model_selection import train_test_split\n",
        "\n",
        "# Load the dataset\n",
        "data = pd.read_csv('Heart.csv')"
      ],
      "metadata": {
        "id": "9VWyZyXzgDO9"
      },
      "execution_count": null,
      "outputs": []
    },
    {
      "cell_type": "code",
      "source": [
        "print(\"First few rows of the dataset:\")\n",
        "print(data.head())"
      ],
      "metadata": {
        "colab": {
          "base_uri": "https://localhost:8080/"
        },
        "id": "MJ6a2gmmn5RM",
        "outputId": "3190556a-6b9b-4196-eeaa-81c924ff0b3b"
      },
      "execution_count": null,
      "outputs": [
        {
          "output_type": "stream",
          "name": "stdout",
          "text": [
            "First few rows of the dataset:\n",
            "   Unnamed: 0  Age  Sex     ChestPain  RestBP  Chol  Fbs  RestECG  MaxHR  \\\n",
            "0           1   63    1       typical     145   233    1        2    150   \n",
            "1           2   67    1  asymptomatic     160   286    0        2    108   \n",
            "2           3   67    1  asymptomatic     120   229    0        2    129   \n",
            "3           4   37    1    nonanginal     130   250    0        0    187   \n",
            "4           5   41    0    nontypical     130   204    0        2    172   \n",
            "\n",
            "   ExAng  Oldpeak  Slope   Ca        Thal  AHD  \n",
            "0      0      2.3      3  0.0       fixed   No  \n",
            "1      1      1.5      2  3.0      normal  Yes  \n",
            "2      1      2.6      2  2.0  reversable  Yes  \n",
            "3      0      3.5      3  0.0      normal   No  \n",
            "4      0      1.4      1  0.0      normal   No  \n"
          ]
        }
      ]
    },
    {
      "cell_type": "code",
      "source": [
        "# Data Cleaning\n",
        "# Checking for any duplicates\n",
        "duplicates = data.duplicated().sum()\n",
        "print(f\"Number of duplicate rows: {duplicates}\")"
      ],
      "metadata": {
        "colab": {
          "base_uri": "https://localhost:8080/"
        },
        "id": "JBH4MPbDn9FD",
        "outputId": "bba6368c-2dfc-4dab-d442-e56e1651377d"
      },
      "execution_count": null,
      "outputs": [
        {
          "output_type": "stream",
          "name": "stdout",
          "text": [
            "Number of duplicate rows: 0\n"
          ]
        }
      ]
    },
    {
      "cell_type": "code",
      "source": [
        "# Removing duplicates\n",
        "data_cleaned = data.drop_duplicates()"
      ],
      "metadata": {
        "id": "tVyKwIWin_sQ"
      },
      "execution_count": null,
      "outputs": []
    },
    {
      "cell_type": "code",
      "source": [
        "# Verify removal of duplicates\n",
        "print(f\"Number of rows after removing duplicates: {data_cleaned.shape[0]}\")"
      ],
      "metadata": {
        "colab": {
          "base_uri": "https://localhost:8080/"
        },
        "id": "2tfETlYfoULo",
        "outputId": "a5e6b62c-8f84-407b-b04f-42ebe645a16d"
      },
      "execution_count": null,
      "outputs": [
        {
          "output_type": "stream",
          "name": "stdout",
          "text": [
            "Number of rows after removing duplicates: 303\n"
          ]
        }
      ]
    },
    {
      "cell_type": "markdown",
      "source": [
        "Handing missing values"
      ],
      "metadata": {
        "id": "sfhS4WIEog5j"
      }
    },
    {
      "cell_type": "code",
      "source": [
        "# Check for missing values\n",
        "missing_values = data_cleaned.isnull().sum()\n",
        "print(missing_values)"
      ],
      "metadata": {
        "colab": {
          "base_uri": "https://localhost:8080/"
        },
        "id": "pLPIpIL3oXMR",
        "outputId": "f6235449-7b8f-43e0-a470-088a3d6a11a5"
      },
      "execution_count": null,
      "outputs": [
        {
          "output_type": "stream",
          "name": "stdout",
          "text": [
            "Unnamed: 0    0\n",
            "Age           0\n",
            "Sex           0\n",
            "ChestPain     0\n",
            "RestBP        0\n",
            "Chol          0\n",
            "Fbs           0\n",
            "RestECG       0\n",
            "MaxHR         0\n",
            "ExAng         0\n",
            "Oldpeak       0\n",
            "Slope         0\n",
            "Ca            4\n",
            "Thal          2\n",
            "AHD           0\n",
            "dtype: int64\n"
          ]
        }
      ]
    },
    {
      "cell_type": "code",
      "source": [
        "# Save the cleaned data to a new CSV file (optional)\n",
        "data_cleaned.to_csv('heart_cleaned.csv', index=False)"
      ],
      "metadata": {
        "id": "7dQ22inlovmq"
      },
      "execution_count": null,
      "outputs": []
    },
    {
      "cell_type": "code",
      "source": [
        "data_cleaned.fillna(data.select_dtypes(include='number').mean(), inplace=True)\n"
      ],
      "metadata": {
        "id": "EiKUaaCupCnA"
      },
      "execution_count": null,
      "outputs": []
    },
    {
      "cell_type": "code",
      "source": [
        "# Verify no missing values remain\n",
        "missing_values_after = data_cleaned.isnull().sum()\n",
        "print(\"Missing values in each column after handling:\")\n",
        "print(missing_values_after)"
      ],
      "metadata": {
        "colab": {
          "base_uri": "https://localhost:8080/"
        },
        "id": "YQrK-jLCpOSk",
        "outputId": "7e6cb86f-410c-49a5-8dd3-a471580f9286"
      },
      "execution_count": null,
      "outputs": [
        {
          "output_type": "stream",
          "name": "stdout",
          "text": [
            "Missing values in each column after handling:\n",
            "Unnamed: 0    0\n",
            "Age           0\n",
            "Sex           0\n",
            "ChestPain     0\n",
            "RestBP        0\n",
            "Chol          0\n",
            "Fbs           0\n",
            "RestECG       0\n",
            "MaxHR         0\n",
            "ExAng         0\n",
            "Oldpeak       0\n",
            "Slope         0\n",
            "Ca            0\n",
            "Thal          2\n",
            "AHD           0\n",
            "dtype: int64\n"
          ]
        }
      ]
    },
    {
      "cell_type": "markdown",
      "source": [
        "Data Transformation"
      ],
      "metadata": {
        "id": "7-nwi8qZqq7z"
      }
    },
    {
      "cell_type": "code",
      "source": [
        "print(data_cleaned.head())"
      ],
      "metadata": {
        "colab": {
          "base_uri": "https://localhost:8080/"
        },
        "id": "jikqnBDjtqU5",
        "outputId": "091ed05e-5156-407c-bd09-d85efbe3d3f0"
      },
      "execution_count": null,
      "outputs": [
        {
          "output_type": "stream",
          "name": "stdout",
          "text": [
            "   Unnamed: 0  Age  Sex     ChestPain  RestBP  Chol  Fbs  RestECG  MaxHR  \\\n",
            "0           1   63    1       typical     145   233    1        2    150   \n",
            "1           2   67    1  asymptomatic     160   286    0        2    108   \n",
            "2           3   67    1  asymptomatic     120   229    0        2    129   \n",
            "3           4   37    1    nonanginal     130   250    0        0    187   \n",
            "4           5   41    0    nontypical     130   204    0        2    172   \n",
            "\n",
            "   ExAng  Oldpeak  Slope   Ca        Thal  AHD  \n",
            "0      0      2.3      3  0.0       fixed   No  \n",
            "1      1      1.5      2  3.0      normal  Yes  \n",
            "2      1      2.6      2  2.0  reversable  Yes  \n",
            "3      0      3.5      3  0.0      normal   No  \n",
            "4      0      1.4      1  0.0      normal   No  \n"
          ]
        }
      ]
    },
    {
      "cell_type": "code",
      "source": [
        "numerical_features = data.select_dtypes(include=['int64', 'float64']).columns\n",
        "\n",
        "# Initialize the StandardScaler\n",
        "scaler = StandardScaler()\n",
        "\n",
        "# Fit and transform the numerical features\n",
        "data_cleaned[numerical_features] = scaler.fit_transform(data_cleaned[numerical_features])\n"
      ],
      "metadata": {
        "id": "ugpe0BdOqvn6"
      },
      "execution_count": null,
      "outputs": []
    },
    {
      "cell_type": "code",
      "source": [
        "# Display the transformed data\n",
        "print(\"Data after scaling:\")\n",
        "print(data_cleaned.head())\n"
      ],
      "metadata": {
        "colab": {
          "base_uri": "https://localhost:8080/"
        },
        "id": "4oY0HzS2tkCV",
        "outputId": "26b0c1ef-ba60-490f-aca3-2e2293ebcb5b"
      },
      "execution_count": null,
      "outputs": [
        {
          "output_type": "stream",
          "name": "stdout",
          "text": [
            "Data after scaling:\n",
            "   Unnamed: 0       Age       Sex     ChestPain    RestBP      Chol       Fbs  \\\n",
            "0   -1.726344  0.948726  0.686202       typical  0.757525 -0.264900  2.394438   \n",
            "1   -1.714911  1.392002  0.686202  asymptomatic  1.611220  0.760415 -0.417635   \n",
            "2   -1.703478  1.392002  0.686202  asymptomatic -0.665300 -0.342283 -0.417635   \n",
            "3   -1.692046 -1.932564  0.686202    nonanginal -0.096170  0.063974 -0.417635   \n",
            "4   -1.680613 -1.489288 -1.457296    nontypical -0.096170 -0.825922 -0.417635   \n",
            "\n",
            "    RestECG     MaxHR     ExAng   Oldpeak     Slope        Ca        Thal  AHD  \n",
            "0  1.016684  0.017197 -0.696631  1.087338  2.274579 -0.723095       fixed   No  \n",
            "1  1.016684 -1.821905  1.435481  0.397182  0.649113  2.503851      normal  Yes  \n",
            "2  1.016684 -0.902354  1.435481  1.346147  0.649113  1.428203  reversable  Yes  \n",
            "3 -0.996749  1.637359 -0.696631  2.122573  2.274579 -0.723095      normal   No  \n",
            "4  1.016684  0.980537 -0.696631  0.310912 -0.976352 -0.723095      normal   No  \n"
          ]
        }
      ]
    },
    {
      "cell_type": "code",
      "source": [
        "train_data, test_data = train_test_split(data_cleaned, test_size=0.25, random_state=42)"
      ],
      "metadata": {
        "id": "hCZ1hBcatk9p"
      },
      "execution_count": null,
      "outputs": []
    },
    {
      "cell_type": "code",
      "source": [
        "# Display the size of the training and testing sets\n",
        "print(\"Training data size:\", train_data.shape)\n",
        "print(\"Testing data size:\", test_data.shape)"
      ],
      "metadata": {
        "colab": {
          "base_uri": "https://localhost:8080/"
        },
        "id": "G5o7mVV4wCoE",
        "outputId": "094bbe7c-1244-4562-fc9c-e4aa5a7b3c9d"
      },
      "execution_count": null,
      "outputs": [
        {
          "output_type": "stream",
          "name": "stdout",
          "text": [
            "Training data size: (227, 15)\n",
            "Testing data size: (76, 15)\n"
          ]
        }
      ]
    }
  ]
}